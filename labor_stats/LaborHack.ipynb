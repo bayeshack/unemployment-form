{
 "cells": [
  {
   "cell_type": "code",
   "execution_count": 12,
   "metadata": {
    "collapsed": true
   },
   "outputs": [],
   "source": [
    "import pandas as pd\n",
    "import numpy as np\n",
    "from scipy.stats import zscore"
   ]
  },
  {
   "cell_type": "code",
   "execution_count": 20,
   "metadata": {
    "collapsed": true
   },
   "outputs": [],
   "source": [
    "msa = pd.read_csv('output_msa.csv')"
   ]
  },
  {
   "cell_type": "code",
   "execution_count": 2,
   "metadata": {
    "collapsed": false
   },
   "outputs": [],
   "source": [
    "msa_occupation_13 = pd.read_csv('msa_occupation_13.csv')\n",
    "msa_occupation_14 = pd.read_csv('msa_occupation_14.csv')\n",
    "msa_occupation_15 = pd.read_csv('msa_occupation_15.csv')"
   ]
  },
  {
   "cell_type": "code",
   "execution_count": 3,
   "metadata": {
    "collapsed": false
   },
   "outputs": [],
   "source": [
    "msa_occupation = msa_occupation_13.merge(msa_occupation_14,\n",
    "                                         left_on = ['AREA_NAME', 'OCC_CODE', 'OCC_TITLE'],\n",
    "                                         right_on = ['AREA_NAME', 'OCC_CODE', 'OCC_TITLE'],\n",
    "                                        suffixes = ('_13', '_14')).merge(msa_occupation_15,\n",
    "                                         left_on = ['AREA_NAME', 'OCC_CODE', 'OCC_TITLE'],\n",
    "                                         right_on = ['AREA_NAME', 'OCC_CODE', 'OCC_TITLE'],)"
   ]
  },
  {
   "cell_type": "code",
   "execution_count": 4,
   "metadata": {
    "collapsed": false
   },
   "outputs": [
    {
     "name": "stderr",
     "output_type": "stream",
     "text": [
      "/Users/matt.castillon/anaconda/lib/python2.7/site-packages/ipykernel/__main__.py:5: FutureWarning: convert_objects is deprecated.  Use the data-type specific converters pd.to_datetime, pd.to_timedelta and pd.to_numeric.\n",
      "/Users/matt.castillon/anaconda/lib/python2.7/site-packages/ipykernel/__main__.py:6: FutureWarning: convert_objects is deprecated.  Use the data-type specific converters pd.to_datetime, pd.to_timedelta and pd.to_numeric.\n",
      "/Users/matt.castillon/anaconda/lib/python2.7/site-packages/ipykernel/__main__.py:7: FutureWarning: convert_objects is deprecated.  Use the data-type specific converters pd.to_datetime, pd.to_timedelta and pd.to_numeric.\n"
     ]
    }
   ],
   "source": [
    "msa_occupation.ix[msa_occupation.TOT_EMP == '**', 'TOT_EMP'] = 0\n",
    "msa_occupation.ix[msa_occupation.TOT_EMP_14 == '**', 'TOT_EMP_14'] = 0\n",
    "msa_occupation.ix[msa_occupation.TOT_EMP_13 == '**', 'TOT_EMP_13'] = 0\n",
    "\n",
    "msa_occupation.TOT_EMP = msa_occupation.TOT_EMP.convert_objects(convert_numeric=True)\n",
    "msa_occupation.TOT_EMP_14 = msa_occupation.TOT_EMP_14.convert_objects(convert_numeric=True)\n",
    "msa_occupation.TOT_EMP_13 = msa_occupation.TOT_EMP_13.convert_objects(convert_numeric=True)"
   ]
  },
  {
   "cell_type": "code",
   "execution_count": 5,
   "metadata": {
    "collapsed": false
   },
   "outputs": [],
   "source": [
    "msa_occupation['GROWTH'] = (msa_occupation.TOT_EMP - msa_occupation.TOT_EMP_13) / msa_occupation.TOT_EMP_13 / 2"
   ]
  },
  {
   "cell_type": "code",
   "execution_count": 6,
   "metadata": {
    "collapsed": false
   },
   "outputs": [],
   "source": [
    "msa_occupation = msa_occupation.loc[(msa_occupation.OCC_GROUP == 'detailed') &\n",
    "                                    (msa_occupation.GROWTH != np.inf) &\n",
    "                                    (msa_occupation.A_MEAN != '*') &\n",
    "                                    (msa_occupation['LOC QUOTIENT'] != '**')]"
   ]
  },
  {
   "cell_type": "code",
   "execution_count": 15,
   "metadata": {
    "collapsed": false
   },
   "outputs": [
    {
     "ename": "AttributeError",
     "evalue": "'DataFrameGroupBy' object has no attribute 'zscore'",
     "output_type": "error",
     "traceback": [
      "\u001b[0;31m---------------------------------------------------------------------------\u001b[0m",
      "\u001b[0;31mAttributeError\u001b[0m                            Traceback (most recent call last)",
      "\u001b[0;32m<ipython-input-15-de132830e44a>\u001b[0m in \u001b[0;36m<module>\u001b[0;34m()\u001b[0m\n\u001b[0;32m----> 1\u001b[0;31m \u001b[0mmsa_occupation\u001b[0m\u001b[0;34m[\u001b[0m\u001b[0;34m'GROWTH_SCORE'\u001b[0m\u001b[0;34m]\u001b[0m \u001b[0;34m=\u001b[0m \u001b[0mmsa_occupation\u001b[0m\u001b[0;34m.\u001b[0m\u001b[0mgroupby\u001b[0m\u001b[0;34m(\u001b[0m\u001b[0;34m'AREA_NAME'\u001b[0m\u001b[0;34m)\u001b[0m\u001b[0;34m.\u001b[0m\u001b[0mzscore\u001b[0m\u001b[0;34m(\u001b[0m\u001b[0;34m'GROWTH'\u001b[0m\u001b[0;34m,\u001b[0m \u001b[0mddof\u001b[0m \u001b[0;34m=\u001b[0m \u001b[0;36m1\u001b[0m\u001b[0;34m)\u001b[0m\u001b[0;34m\u001b[0m\u001b[0m\n\u001b[0m",
      "\u001b[0;32m/Users/matt.castillon/anaconda/lib/python2.7/site-packages/pandas/core/groupby.pyc\u001b[0m in \u001b[0;36m__getattr__\u001b[0;34m(self, attr)\u001b[0m\n\u001b[1;32m    485\u001b[0m \u001b[0;34m\u001b[0m\u001b[0m\n\u001b[1;32m    486\u001b[0m         raise AttributeError(\"%r object has no attribute %r\" %\n\u001b[0;32m--> 487\u001b[0;31m                              (type(self).__name__, attr))\n\u001b[0m\u001b[1;32m    488\u001b[0m \u001b[0;34m\u001b[0m\u001b[0m\n\u001b[1;32m    489\u001b[0m     \u001b[0mplot\u001b[0m \u001b[0;34m=\u001b[0m \u001b[0mproperty\u001b[0m\u001b[0;34m(\u001b[0m\u001b[0mGroupByPlot\u001b[0m\u001b[0;34m)\u001b[0m\u001b[0;34m\u001b[0m\u001b[0m\n",
      "\u001b[0;31mAttributeError\u001b[0m: 'DataFrameGroupBy' object has no attribute 'zscore'"
     ]
    }
   ],
   "source": [
    "msa_occupation['GROWTH_SCORE'] = msa_occupation.groupby('AREA_NAME').zscore('GROWTH', ddof = 1)"
   ]
  },
  {
   "cell_type": "markdown",
   "metadata": {},
   "source": [
    "msa_occupation.loc(msa.AREA_NAME == 'San Jose-Sunnyvale-Santa Clara, CA')"
   ]
  }
 ],
 "metadata": {
  "kernelspec": {
   "display_name": "Python 2",
   "language": "python",
   "name": "python2"
  },
  "language_info": {
   "codemirror_mode": {
    "name": "ipython",
    "version": 2
   },
   "file_extension": ".py",
   "mimetype": "text/x-python",
   "name": "python",
   "nbconvert_exporter": "python",
   "pygments_lexer": "ipython2",
   "version": "2.7.11"
  }
 },
 "nbformat": 4,
 "nbformat_minor": 0
}
